{
  "nbformat": 4,
  "nbformat_minor": 0,
  "metadata": {
    "colab": {
      "provenance": []
    },
    "kernelspec": {
      "name": "python3",
      "display_name": "Python 3"
    },
    "language_info": {
      "name": "python"
    }
  },
  "cells": [
    {
      "cell_type": "markdown",
      "source": [
        "# Actividad guiada 1\n",
        "# Salvador Díaz González\n",
        "\n",
        "GitHub:\n",
        "https://github.com/sadiagon/algoritmos_optimizacion/blob/416adabd067dfdf33bb7a7bbbf9673875876289a/Algoritmos_Salvador_D%C3%ADaz_Gonz%C3%A1lez_AG1.ipynb\n",
        "\n",
        "Google Colab:\n",
        "https://colab.research.google.com/drive/1_m_TOOoC4GrbZdKYaZgm4y5ABhmARRAa?usp=sharing"
      ],
      "metadata": {
        "id": "lpgX8WQ-yl6-"
      }
    },
    {
      "cell_type": "markdown",
      "source": [
        "# TORRES DE HANOI"
      ],
      "metadata": {
        "id": "YQ7EaZ2IrDAZ"
      }
    },
    {
      "cell_type": "code",
      "source": [
        "def torres_de_hanoi(N, origen, destino, pivote): # N, número de bloques\n",
        "    if N == 1:\n",
        "        print(f'mover bloque de {origen} a {destino}')\n",
        "        return\n",
        "    torres_de_hanoi(N-1, origen, pivote, destino)\n",
        "    print(f'mover bloque de {origen} a {destino}')\n",
        "    torres_de_hanoi(N-1, pivote, destino, origen)\n",
        "\n",
        "print(torres_de_hanoi(4, 1, 3, 2))"
      ],
      "metadata": {
        "colab": {
          "base_uri": "https://localhost:8080/"
        },
        "id": "qEjTAwzy0F-z",
        "outputId": "5c9c0a32-f4b8-41c8-b132-edb1068aa272"
      },
      "execution_count": null,
      "outputs": [
        {
          "output_type": "stream",
          "name": "stdout",
          "text": [
            "mover bloque de 1 a 2\n",
            "mover bloque de 1 a 3\n",
            "mover bloque de 2 a 3\n",
            "mover bloque de 1 a 2\n",
            "mover bloque de 3 a 1\n",
            "mover bloque de 3 a 2\n",
            "mover bloque de 1 a 2\n",
            "mover bloque de 1 a 3\n",
            "mover bloque de 2 a 3\n",
            "mover bloque de 2 a 1\n",
            "mover bloque de 3 a 1\n",
            "mover bloque de 2 a 3\n",
            "mover bloque de 1 a 2\n",
            "mover bloque de 1 a 3\n",
            "mover bloque de 2 a 3\n",
            "None\n"
          ]
        }
      ]
    },
    {
      "cell_type": "markdown",
      "source": [
        "# CAMBIO DE MONEDAS"
      ],
      "metadata": {
        "id": "fgwo-XROrH1A"
      }
    },
    {
      "cell_type": "code",
      "source": [
        "def cambio_monedas(cantidad, sistema):\n",
        "    b = []\n",
        "    for valor in sistema:\n",
        "        if cantidad >= valor:\n",
        "            monedas = cantidad // valor\n",
        "            b.append(int(monedas))\n",
        "            cantidad = cantidad % valor\n",
        "        else:\n",
        "            b.append(0)\n",
        "    return print(\"Número de monedas:\", b)\n",
        "\n",
        "\n",
        "sistema = [25, 10, 5, 1]\n",
        "print('sistema: ', sistema)\n",
        "print(cambio_monedas(89, sistema))\n",
        "\n",
        "otro_sistema = [2, 1, 0.50, 0.20, 0.10, 0.05, 0.02, 0.01]\n",
        "print('sistema: ', otro_sistema)\n",
        "print(cambio_monedas(7.53, otro_sistema))"
      ],
      "metadata": {
        "colab": {
          "base_uri": "https://localhost:8080/"
        },
        "id": "0tSGd7ZMX1dU",
        "outputId": "08ff595c-fbb3-4eda-9341-46a3246ef6ef"
      },
      "execution_count": null,
      "outputs": [
        {
          "output_type": "stream",
          "name": "stdout",
          "text": [
            "sistema:  [25, 10, 5, 1]\n",
            "Número de monedas: [3, 1, 0, 4]\n",
            "None\n",
            "sistema:  [2, 1, 0.5, 0.2, 0.1, 0.05, 0.02, 0.01]\n",
            "Número de monedas: [3, 1, 1, 0, 0, 0, 1, 1]\n",
            "None\n"
          ]
        }
      ]
    },
    {
      "cell_type": "markdown",
      "source": [
        "# PUNTOS MÁS CERCANOS"
      ],
      "metadata": {
        "id": "-l00_qfprOxV"
      }
    },
    {
      "cell_type": "markdown",
      "source": [
        "# 1D"
      ],
      "metadata": {
        "id": "s_Delkm8_rtF"
      }
    },
    {
      "cell_type": "markdown",
      "source": [
        "## Fuerza bruta"
      ],
      "metadata": {
        "id": "KXFO7W659CGg"
      }
    },
    {
      "cell_type": "code",
      "source": [
        "import random\n",
        "\n",
        "numeros = [random.randrange(1, 1000) for x in range(100)]\n",
        "\n",
        "distancia_minima = max(numeros) - min(numeros)\n",
        "valores_minimos = []\n",
        "\n",
        "for i in range(len(numeros)):\n",
        "    for j in range(i+1, len(numeros)):\n",
        "        valor1 = numeros[i]\n",
        "        valor2 = numeros[j]\n",
        "\n",
        "        distancia = abs(valor1 - valor2)\n",
        "\n",
        "        if distancia < distancia_minima:\n",
        "            distancia_minima = distancia\n",
        "            valores_minimos = [(valor1, valor2)]\n",
        "        elif distancia == distancia_minima:\n",
        "            valores_minimos.append((valor1, valor2))\n",
        "\n",
        "print(f\"Valores con la menor distancia ({distancia_minima}):\")\n",
        "for valor1, valor2 in valores_minimos:\n",
        "    print(f\"{valor1} y {valor2}\")\n"
      ],
      "metadata": {
        "colab": {
          "base_uri": "https://localhost:8080/"
        },
        "id": "RlOsKFycqz5m",
        "outputId": "13c0818e-3b44-44e5-ea93-ef4c23f6a878"
      },
      "execution_count": 12,
      "outputs": [
        {
          "output_type": "stream",
          "name": "stdout",
          "text": [
            "Valores con la menor distancia (0):\n",
            "645 y 645\n",
            "955 y 955\n",
            "574 y 574\n"
          ]
        }
      ]
    },
    {
      "cell_type": "markdown",
      "source": [
        "La complejidad de los bucles anidados es de  n*(n-1)/2, con lo cual, la complejidad es de O(n^2)."
      ],
      "metadata": {
        "id": "0TjeK6kmrTxp"
      }
    },
    {
      "cell_type": "markdown",
      "source": [
        "## Divide y vencerás\n",
        "Creando dos sublistas y utilizando recursividad (por lo comentado en clase)"
      ],
      "metadata": {
        "id": "Sz7LcBlB9Q5Y"
      }
    },
    {
      "cell_type": "code",
      "source": [
        "import random\n",
        "\n",
        "def encontrar_pares_cercanos2(lista):\n",
        "    if len(lista) < 2:\n",
        "        return []\n",
        "\n",
        "    num1 = lista[0]\n",
        "    sublista = lista[1:]\n",
        "\n",
        "    pares_cercanos_restantes = encontrar_pares_cercanos2(sublista)\n",
        "\n",
        "    pares_cercanos = []\n",
        "\n",
        "    for num2 in sublista:\n",
        "        distancia_actual = abs(num1 - num2)\n",
        "        pares_cercanos.append((num1, num2, distancia_actual))\n",
        "\n",
        "    distancia_minima = min(pares_cercanos, key=lambda x: x[2])[2]\n",
        "\n",
        "    pares_cercanos_minimos = [(num1, num2, distancia) for num1, num2, distancia in pares_cercanos if distancia == distancia_minima]\n",
        "\n",
        "    pares_cercanos_minimos.extend(pares_cercanos_restantes)\n",
        "\n",
        "    return pares_cercanos_minimos\n",
        "\n",
        "# Ejemplo de uso\n",
        "numeros = [random.randrange(1, 10) for x in range(10)]\n",
        "print(numeros)\n",
        "\n",
        "pares_mas_cercanos = encontrar_pares_cercanos2(numeros)\n",
        "\n",
        "distancia_minima = min(pares_mas_cercanos, key=lambda x: x[2])[2]\n",
        "pares_cercanos_minimos = [(num1, num2, distancia) for num1, num2, distancia in pares_mas_cercanos if distancia == distancia_minima]\n",
        "\n",
        "for num1, num2, distancia in pares_cercanos_minimos:\n",
        "    print(f\"Los números {num1} y {num2} tienen una distancia mínima de {distancia}\")"
      ],
      "metadata": {
        "colab": {
          "base_uri": "https://localhost:8080/"
        },
        "id": "TfOFsTMPrf7Q",
        "outputId": "3f6f37a8-c50f-4c39-92e7-7fb575d038d4"
      },
      "execution_count": 10,
      "outputs": [
        {
          "output_type": "stream",
          "name": "stdout",
          "text": [
            "[7, 8, 9, 8, 6, 8, 2, 6, 3, 9]\n",
            "Los números 8 y 8 tienen una distancia mínima de 0\n",
            "Los números 8 y 8 tienen una distancia mínima de 0\n",
            "Los números 9 y 9 tienen una distancia mínima de 0\n",
            "Los números 8 y 8 tienen una distancia mínima de 0\n",
            "Los números 6 y 6 tienen una distancia mínima de 0\n"
          ]
        }
      ]
    },
    {
      "cell_type": "markdown",
      "source": [
        "La complejidad es  O(n^2), ya que hay n niveles de recursión (cada nivel corresponde a un elemento de la lista), el tiempo total requerido será proporcional a n*n = n^2."
      ],
      "metadata": {
        "id": "IJnx7tPF9e_K"
      }
    },
    {
      "cell_type": "markdown",
      "source": [
        "# 2D"
      ],
      "metadata": {
        "id": "NbqjogPr_lZB"
      }
    },
    {
      "cell_type": "code",
      "source": [
        "import random\n",
        "import math\n",
        "\n",
        "numeros = [(random.randrange(1, 1000), random.randrange(1, 1000)) for x in range(100)]\n",
        "\n",
        "distancia_minima = float('inf')\n",
        "valores_minimos = []\n",
        "\n",
        "for i in range(len(numeros)):\n",
        "    for j in range(i+1, len(numeros)):\n",
        "        punto1 = numeros[i]\n",
        "        punto2 = numeros[j]\n",
        "\n",
        "        distancia = math.sqrt((punto1[0] - punto2[0])**2 + (punto1[1] - punto2[1])**2)\n",
        "\n",
        "        if distancia < distancia_minima:\n",
        "            distancia_minima = distancia\n",
        "            valores_minimos = [(punto1, punto2)]\n",
        "        elif distancia == distancia_minima:\n",
        "            valores_minimos.append((punto1, punto2))\n",
        "\n",
        "print(f\"Puntos con la menor distancia ({distancia_minima}):\")\n",
        "for punto1, punto2 in valores_minimos:\n",
        "    print(f\"Punto 1: {punto1}, Punto 2: {punto2}\")\n",
        "\n",
        "\n",
        "\n"
      ],
      "metadata": {
        "colab": {
          "base_uri": "https://localhost:8080/"
        },
        "id": "9lGvxjZA_2qU",
        "outputId": "4aba8e18-0ca1-4d2c-a1b7-0ea38d36e7cb"
      },
      "execution_count": 6,
      "outputs": [
        {
          "output_type": "stream",
          "name": "stdout",
          "text": [
            "Puntos con la menor distancia (16.0312195418814):\n",
            "Punto 1: (659, 26), Punto 2: (658, 10)\n"
          ]
        }
      ]
    },
    {
      "cell_type": "markdown",
      "source": [
        "# 3D"
      ],
      "metadata": {
        "id": "7kQxPbVfAVVb"
      }
    },
    {
      "cell_type": "code",
      "source": [
        "import random\n",
        "import math\n",
        "\n",
        "def encontrar_terna_cercana(lista):\n",
        "    ternas_cercanas = []\n",
        "\n",
        "    for i in range(len(lista)):\n",
        "        punto1 = lista[i]\n",
        "\n",
        "        for j in range(i+1, len(lista)):\n",
        "            punto2 = lista[j]\n",
        "\n",
        "            distancia = math.sqrt((punto2[0] - punto1[0])**2 + (punto2[1] - punto1[1])**2 + (punto2[2] - punto1[2])**2)\n",
        "            ternas_cercanas.append(((punto1[0], punto1[1], punto1[2]), (punto2[0], punto2[1], punto2[2]), distancia))\n",
        "\n",
        "    ternas_cercanas = sorted(ternas_cercanas, key=lambda x: x[2])\n",
        "\n",
        "    ternas_mas_cercanas = []\n",
        "    distancia_minima = ternas_cercanas[0][2]\n",
        "\n",
        "    for punto1, punto2, distancia in ternas_cercanas:\n",
        "        if distancia == distancia_minima:\n",
        "            ternas_mas_cercanas.append((punto1, punto2, distancia))\n",
        "        else:\n",
        "            break\n",
        "\n",
        "    return ternas_mas_cercanas\n",
        "\n",
        "# Ejemplo de uso\n",
        "ternas = [(random.randrange(1, 1000), random.randrange(1, 1000), random.randrange(1, 1000)) for x in range(100)]\n",
        "\n",
        "ternas_mas_cercanas = encontrar_terna_cercana(ternas)\n",
        "\n",
        "for punto1, punto2, distancia in ternas_mas_cercanas:\n",
        "    print(f\"Las ternas {punto1} y {punto2} tienen una distancia de {distancia}\")"
      ],
      "metadata": {
        "colab": {
          "base_uri": "https://localhost:8080/"
        },
        "id": "-q8jDtWyAb4W",
        "outputId": "3e08fa7b-b474-4797-b499-732003eebc56"
      },
      "execution_count": 7,
      "outputs": [
        {
          "output_type": "stream",
          "name": "stdout",
          "text": [
            "Las ternas (733, 969, 783) y (754, 932, 740) tienen una distancia de 60.489668539346454\n"
          ]
        }
      ]
    }
  ]
}