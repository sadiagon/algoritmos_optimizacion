{
  "nbformat": 4,
  "nbformat_minor": 0,
  "metadata": {
    "colab": {
      "provenance": []
    },
    "kernelspec": {
      "name": "python3",
      "display_name": "Python 3"
    },
    "language_info": {
      "name": "python"
    }
  },
  "cells": [
    {
      "cell_type": "markdown",
      "source": [
        "Actividad guiada 3\n",
        "Salvador Díaz González\n",
        "GitHub:\n",
        "\n",
        "Google Colab: https://colab.research.google.com/drive/1crY0E_vVS8mGwJA7i7tudzJ_A3NkSAZI?usp=sharing"
      ],
      "metadata": {
        "id": "pjRp5MKTsj0Q"
      }
    },
    {
      "cell_type": "code",
      "execution_count": null,
      "metadata": {
        "colab": {
          "base_uri": "https://localhost:8080/"
        },
        "id": "7AnyDsdeZ18S",
        "outputId": "612c9d34-044c-414b-9e5c-c6c517c11adf"
      },
      "outputs": [
        {
          "output_type": "stream",
          "name": "stdout",
          "text": [
            "Requirement already satisfied: requests in /usr/local/lib/python3.10/dist-packages (2.27.1)\n",
            "Requirement already satisfied: urllib3<1.27,>=1.21.1 in /usr/local/lib/python3.10/dist-packages (from requests) (1.26.16)\n",
            "Requirement already satisfied: certifi>=2017.4.17 in /usr/local/lib/python3.10/dist-packages (from requests) (2023.5.7)\n",
            "Requirement already satisfied: charset-normalizer~=2.0.0 in /usr/local/lib/python3.10/dist-packages (from requests) (2.0.12)\n",
            "Requirement already satisfied: idna<4,>=2.5 in /usr/local/lib/python3.10/dist-packages (from requests) (3.4)\n",
            "Collecting tsplib95\n",
            "  Downloading tsplib95-0.7.1-py2.py3-none-any.whl (25 kB)\n",
            "Requirement already satisfied: Click>=6.0 in /usr/local/lib/python3.10/dist-packages (from tsplib95) (8.1.3)\n",
            "Collecting Deprecated~=1.2.9 (from tsplib95)\n",
            "  Downloading Deprecated-1.2.14-py2.py3-none-any.whl (9.6 kB)\n",
            "Collecting networkx~=2.1 (from tsplib95)\n",
            "  Downloading networkx-2.8.8-py3-none-any.whl (2.0 MB)\n",
            "\u001b[2K     \u001b[90m━━━━━━━━━━━━━━━━━━━━━━━━━━━━━━━━━━━━━━━━\u001b[0m \u001b[32m2.0/2.0 MB\u001b[0m \u001b[31m23.2 MB/s\u001b[0m eta \u001b[36m0:00:00\u001b[0m\n",
            "\u001b[?25hRequirement already satisfied: tabulate~=0.8.7 in /usr/local/lib/python3.10/dist-packages (from tsplib95) (0.8.10)\n",
            "Requirement already satisfied: wrapt<2,>=1.10 in /usr/local/lib/python3.10/dist-packages (from Deprecated~=1.2.9->tsplib95) (1.14.1)\n",
            "Installing collected packages: networkx, Deprecated, tsplib95\n",
            "  Attempting uninstall: networkx\n",
            "    Found existing installation: networkx 3.1\n",
            "    Uninstalling networkx-3.1:\n",
            "      Successfully uninstalled networkx-3.1\n",
            "Successfully installed Deprecated-1.2.14 networkx-2.8.8 tsplib95-0.7.1\n"
          ]
        }
      ],
      "source": [
        "!pip install requests  #Hacer llamadas http a paginas de la red\n",
        "!pip install tsplib95  #Modulo para las instancias del problema del TSP"
      ]
    },
    {
      "cell_type": "code",
      "source": [
        "import urllib.request #Hacer llamadas http a paginas de la red\n",
        "import tsplib95       #Modulo para las instancias del problema del TSP\n",
        "import math           #Modulo de funciones matematicas. Se usa para exp\n",
        "import random         #Para generar valores aleatorios\n",
        "\n",
        "#Descargamos el fichero de datos(Matriz de distancias)\n",
        "file = \"swiss42.tsp\" ;\n",
        "urllib.request.urlretrieve(\"http://comopt.ifi.uni-heidelberg.de/software/TSPLIB95/tsp/swiss42.tsp.gz\", file + '.gz')\n",
        "!gzip -d swiss42.tsp.gz     #Descomprimir el fichero de datos"
      ],
      "metadata": {
        "id": "dJiMd9kGaHL9"
      },
      "execution_count": null,
      "outputs": []
    },
    {
      "cell_type": "code",
      "source": [
        "#Carga de datos y generación de objeto problem\n",
        "###############################################################################\n",
        "problem = tsplib95.load(file)\n",
        "\n",
        "#Nodos\n",
        "Nodos = list(problem.get_nodes())\n",
        "\n",
        "#Aristas\n",
        "Aristas = list(problem.get_edges())\n"
      ],
      "metadata": {
        "id": "fKDTrAglbHo5"
      },
      "execution_count": null,
      "outputs": []
    },
    {
      "cell_type": "code",
      "source": [
        "#Se genera una solucion aleatoria con comienzo en en el nodo 0\n",
        "def crear_solucion(Nodos):\n",
        "  solucion = [Nodos[0]]\n",
        "  for n in Nodos[1:]:\n",
        "    solucion = solucion + [random.choice(list(set(Nodos) - set(solucion)))]\n",
        "  return solucion\n",
        "\n",
        "crear_solucion(Nodos)\n",
        "\n",
        "#Devuelve la distancia entre dos nodos\n",
        "def distancia(a,b, problem):\n",
        "  return problem.get_weight(a,b)\n",
        "\n",
        "#Devuelve la distancia total de una trayectoria/solucion\n",
        "def distancia_total(solucion, problem):\n",
        "  distancia_total = 0\n",
        "  for i in range(len(solucion)-1):\n",
        "    distancia_total += distancia(solucion[i] ,solucion[i+1] ,  problem)\n",
        "  return distancia_total + distancia(solucion[len(solucion)-1] ,solucion[0], problem)\n",
        "\n",
        "\n",
        "\n",
        "\n"
      ],
      "metadata": {
        "id": "KDZhWMf5gN1m"
      },
      "execution_count": null,
      "outputs": []
    },
    {
      "cell_type": "code",
      "source": [
        "def busqueda_aleatoria(problem, N):\n",
        "  #N es el numero de iteraciones\n",
        "  Nodos = list(problem.get_nodes())\n",
        "\n",
        "  mejor_solucion = []\n",
        "  #mejor_distancia = 10e100                         #Inicializamos con un valor alto\n",
        "  mejor_distancia = float('inf')                    #Inicializamos con un valor alto\n",
        "\n",
        "  for i in range(N):                                #Criterio de parada: repetir N veces pero podemos incluir otros\n",
        "    solucion = crear_solucion(Nodos)                #Genera una solucion aleatoria\n",
        "    distancia = distancia_total(solucion, problem)  #Calcula el valor objetivo(distancia total)\n",
        "\n",
        "    if distancia < mejor_distancia:                 #Compara con la mejor obtenida hasta ahora\n",
        "      mejor_solucion = solucion\n",
        "      mejor_distancia = distancia\n",
        "\n",
        "\n",
        "  print(\"Mejor solución:\" , mejor_solucion)\n",
        "  print(\"Distancia     :\" , mejor_distancia)\n",
        "  return mejor_solucion\n",
        "\n",
        "\n",
        "\n",
        "#Busqueda aleatoria con 5000 iteraciones\n",
        "solucion = busqueda_aleatoria(problem, 5000)"
      ],
      "metadata": {
        "colab": {
          "base_uri": "https://localhost:8080/"
        },
        "id": "osrEQYHMj5l0",
        "outputId": "0711e5ac-b328-4fb3-dc8f-0d7a6e6f0049"
      },
      "execution_count": null,
      "outputs": [
        {
          "output_type": "stream",
          "name": "stdout",
          "text": [
            "Mejor solución: [0, 27, 1, 2, 31, 7, 13, 19, 41, 8, 25, 26, 12, 29, 16, 14, 10, 23, 39, 21, 24, 18, 20, 17, 33, 37, 35, 36, 38, 11, 30, 28, 22, 34, 40, 3, 4, 15, 32, 9, 6, 5]\n",
            "Distancia     : 3674\n"
          ]
        }
      ]
    },
    {
      "cell_type": "code",
      "source": [
        "solucion = busqueda_aleatoria(problem, 5000)\n",
        "\n",
        "def genera_vecina(solucion):\n",
        "  #Generador de soluciones vecinas: 2-opt (intercambiar 2 nodos) Si hay N nodos se generan (N-1)x(N-2)/2 soluciones\n",
        "  #Se puede modificar para aplicar otros generadores distintos que 2-opt\n",
        "  #print(solucion)\n",
        "  mejor_solucion = []\n",
        "  mejor_distancia = 10e100\n",
        "  for i in range(1,len(solucion)-1):          #Recorremos todos los nodos en bucle doble para evaluar todos los intercambios 2-opt\n",
        "    for j in range(i+1, len(solucion)):\n",
        "\n",
        "      #Se genera una nueva solución intercambiando los dos nodos i,j:\n",
        "      #  (usamos el operador + que para listas en python las concatena) : ej.: [1,2] + [3] = [1,2,3]\n",
        "      vecina = solucion[:i] + [solucion[j]] + solucion[i+1:j] + [solucion[i]] + solucion[j+1:]\n",
        "\n",
        "      #Se evalua la nueva solución ...\n",
        "      distancia_vecina = distancia_total(vecina, problem)\n",
        "\n",
        "      #... para guardarla si mejora las anteriores\n",
        "      if distancia_vecina <= mejor_distancia:\n",
        "        mejor_distancia = distancia_vecina\n",
        "        mejor_solucion = vecina\n",
        "  return mejor_solucion\n",
        "\n",
        "print(\"Distancia Solucion Incial:\" , distancia_total(solucion, problem))\n",
        "\n",
        "nueva_solucion = genera_vecina(solucion)\n",
        "print(\"Distancia Mejor Solucion Local:\", distancia_total(nueva_solucion, problem))\n"
      ],
      "metadata": {
        "colab": {
          "base_uri": "https://localhost:8080/"
        },
        "id": "bsCX_WjvmIKw",
        "outputId": "9f7a9578-9f00-4233-e4d9-f9dfc38b8414"
      },
      "execution_count": null,
      "outputs": [
        {
          "output_type": "stream",
          "name": "stdout",
          "text": [
            "Mejor solución: [0, 20, 35, 40, 12, 23, 34, 28, 26, 33, 31, 17, 4, 8, 2, 30, 36, 15, 29, 22, 39, 9, 21, 11, 24, 25, 10, 41, 13, 1, 6, 3, 7, 38, 32, 5, 27, 18, 19, 16, 37, 14]\n",
            "Distancia     : 3716\n",
            "Distancia Solucion Incial: 3716\n",
            "Distancia Mejor Solucion Local: 3282\n"
          ]
        }
      ]
    },
    {
      "cell_type": "code",
      "source": [
        "def busqueda_local(problem):\n",
        "  mejor_solucion = []\n",
        "\n",
        "  #Generar una solucion inicial de referencia(aleatoria)\n",
        "  solucion_referencia = crear_solucion(Nodos)\n",
        "  mejor_distancia = distancia_total(solucion_referencia, problem)\n",
        "  print(mejor_distancia)\n",
        "  iteracion=0             #Un contador para saber las iteraciones que hacemos\n",
        "  while(1):\n",
        "    iteracion +=1         #Incrementamos el contador\n",
        "    #print('#',iteracion)\n",
        "\n",
        "    #Obtenemos la mejor vecina ...\n",
        "    vecina = genera_vecina(solucion_referencia)\n",
        "\n",
        "    #... y la evaluamos para ver si mejoramos respecto a lo encontrado hasta el momento\n",
        "    distancia_vecina = distancia_total(vecina, problem)\n",
        "\n",
        "    #Si no mejoramos hay que terminar. Hemos llegado a un minimo local(según nuestro operador de vencindad 2-opt)\n",
        "    if distancia_vecina < mejor_distancia:\n",
        "      #mejor_solucion = copy.deepcopy(vecina)   #Con copia profunda. Las copias en python son por referencia\n",
        "      mejor_solucion = vecina                   #Guarda la mejor solución encontrada\n",
        "      mejor_distancia = distancia_vecina\n",
        "\n",
        "    else:\n",
        "      print(\"En la iteracion \", iteracion, \", la mejor solución encontrada es:\" , mejor_solucion)\n",
        "      print(\"Distancia     :\" , mejor_distancia)\n",
        "      return mejor_solucion\n",
        "\n",
        "    solucion_referencia = vecina\n",
        "\n",
        "\n",
        "sol = busqueda_local(problem )"
      ],
      "metadata": {
        "colab": {
          "base_uri": "https://localhost:8080/"
        },
        "id": "VfjbsSGutpSV",
        "outputId": "da535224-3312-4b99-f02a-69cb83154e99"
      },
      "execution_count": null,
      "outputs": [
        {
          "output_type": "stream",
          "name": "stdout",
          "text": [
            "5033\n",
            "En la iteracion  37 , la mejor solución encontrada es: [0, 7, 37, 15, 16, 14, 19, 13, 12, 11, 25, 39, 22, 38, 30, 28, 2, 27, 3, 4, 6, 5, 26, 18, 10, 40, 24, 21, 34, 33, 20, 32, 8, 41, 23, 9, 29, 31, 35, 36, 17, 1]\n",
            "Distancia     : 1824\n"
          ]
        }
      ]
    },
    {
      "cell_type": "markdown",
      "source": [
        "Se ha introducido:\n",
        " - numero_ejecuciones (el número de ejecuciones de búsqueda local a realizar)\n",
        " - max_iteraciones (el número máximo de iteraciones permitidas por ejecución)."
      ],
      "metadata": {
        "id": "smx9VnbNTK5u"
      }
    },
    {
      "cell_type": "code",
      "source": [
        "def busqueda_local(problem, ejecuciones, iteraciones):\n",
        "  mejor_solucion = []\n",
        "  mejor_distancia = float('inf')\n",
        "\n",
        "  for _ in range(ejecuciones):  # Número de ejecuciones de búsqueda local\n",
        "    # Generar una solución inicial de referencia (aleatoria)\n",
        "    solucion_referencia = crear_solucion(Nodos)\n",
        "    distancia_referencia = distancia_total(solucion_referencia, problem)\n",
        "\n",
        "    iteracion = 0  # Un contador para saber las iteraciones que hacemos\n",
        "    while True:\n",
        "      iteracion += 1  # Incrementamos el contador\n",
        "\n",
        "      # Obtenemos la mejor vecina ...\n",
        "      vecina = genera_vecina(solucion_referencia)\n",
        "\n",
        "      # ... y la evaluamos para ver si mejoramos respecto a lo encontrado hasta el momento\n",
        "      distancia_vecina = distancia_total(vecina, problem)\n",
        "\n",
        "      # Si no mejoramos, hay que terminar. Hemos llegado a un mínimo local (según nuestro operador de vecindad 2-opt)\n",
        "      if distancia_vecina < distancia_referencia:\n",
        "        mejor_solucion = vecina  # Guarda la mejor solución encontrada\n",
        "        mejor_distancia = distancia_vecina\n",
        "        distancia_referencia = distancia_vecina\n",
        "\n",
        "      if iteracion >= iteraciones:\n",
        "        break\n",
        "\n",
        "      solucion_referencia = vecina\n",
        "\n",
        "  print(\"La mejor solución encontrada es:\", mejor_solucion)\n",
        "  print(\"Distancia:\", mejor_distancia)\n",
        "  return mejor_solucion\n",
        "\n",
        "ejecuciones = 5  # Número de ejecuciones de búsqueda local\n",
        "iteraciones = 100  # Número máximo de iteraciones por ejecución\n",
        "\n",
        "sol = busqueda_local(problem, ejecuciones, iteraciones)\n"
      ],
      "metadata": {
        "colab": {
          "base_uri": "https://localhost:8080/"
        },
        "id": "KHE8Ni8ORjxq",
        "outputId": "4d04952d-94d0-468c-fdf2-02fabbe64b7b"
      },
      "execution_count": null,
      "outputs": [
        {
          "output_type": "stream",
          "name": "stdout",
          "text": [
            "La mejor solución encontrada es: [0, 31, 17, 1, 10, 25, 11, 12, 18, 26, 6, 32, 30, 22, 29, 28, 2, 27, 3, 4, 8, 41, 23, 9, 39, 21, 40, 24, 38, 34, 33, 20, 35, 36, 37, 7, 15, 16, 14, 19, 13, 5]\n",
            "Distancia: 1685\n"
          ]
        }
      ]
    }
  ]
}