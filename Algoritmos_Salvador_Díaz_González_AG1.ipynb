{
  "nbformat": 4,
  "nbformat_minor": 0,
  "metadata": {
    "colab": {
      "provenance": []
    },
    "kernelspec": {
      "name": "python3",
      "display_name": "Python 3"
    },
    "language_info": {
      "name": "python"
    }
  },
  "cells": [
    {
      "cell_type": "markdown",
      "source": [
        "# Actividad guiada 1\n",
        "# Salvador Díaz González\n"
      ],
      "metadata": {
        "id": "lpgX8WQ-yl6-"
      }
    },
    {
      "cell_type": "markdown",
      "source": [
        "# TORRES DE HANOI"
      ],
      "metadata": {
        "id": "YQ7EaZ2IrDAZ"
      }
    },
    {
      "cell_type": "code",
      "source": [
        "def torres_de_hanoi(N, origen, destino, pivote): # N, número de bloques\n",
        "    if N == 1:\n",
        "        print(f'mover bloque de {origen} a {destino}')\n",
        "        return\n",
        "    torres_de_hanoi(N-1, origen, pivote, destino)\n",
        "    print(f'mover bloque de {origen} a {destino}')\n",
        "    torres_de_hanoi(N-1, pivote, destino, origen)\n",
        "\n",
        "print(torres_de_hanoi(4, 1, 3, 2))"
      ],
      "metadata": {
        "colab": {
          "base_uri": "https://localhost:8080/"
        },
        "id": "qEjTAwzy0F-z",
        "outputId": "5c9c0a32-f4b8-41c8-b132-edb1068aa272"
      },
      "execution_count": 3,
      "outputs": [
        {
          "output_type": "stream",
          "name": "stdout",
          "text": [
            "mover bloque de 1 a 2\n",
            "mover bloque de 1 a 3\n",
            "mover bloque de 2 a 3\n",
            "mover bloque de 1 a 2\n",
            "mover bloque de 3 a 1\n",
            "mover bloque de 3 a 2\n",
            "mover bloque de 1 a 2\n",
            "mover bloque de 1 a 3\n",
            "mover bloque de 2 a 3\n",
            "mover bloque de 2 a 1\n",
            "mover bloque de 3 a 1\n",
            "mover bloque de 2 a 3\n",
            "mover bloque de 1 a 2\n",
            "mover bloque de 1 a 3\n",
            "mover bloque de 2 a 3\n",
            "None\n"
          ]
        }
      ]
    },
    {
      "cell_type": "markdown",
      "source": [
        "# CAMBIO DE MONEDAS"
      ],
      "metadata": {
        "id": "fgwo-XROrH1A"
      }
    },
    {
      "cell_type": "code",
      "source": [
        "def cambio_monedas(cantidad, sistema):\n",
        "    b = []\n",
        "    for valor in sistema:\n",
        "        if cantidad >= valor:\n",
        "            monedas = cantidad // valor\n",
        "            b.append(int(monedas))\n",
        "            cantidad = cantidad % valor\n",
        "        else:\n",
        "            b.append(0)\n",
        "    return print(\"Número de monedas:\", b)\n",
        "\n",
        "\n",
        "sistema = [25, 10, 5, 1]\n",
        "print('sistema: ', sistema)\n",
        "print(cambio_monedas(89, sistema))\n",
        "\n",
        "otro_sistema = [2, 1, 0.50, 0.20, 0.10, 0.05, 0.02, 0.01]\n",
        "print('sistema: ', otro_sistema)\n",
        "print(cambio_monedas(7.53, otro_sistema))"
      ],
      "metadata": {
        "colab": {
          "base_uri": "https://localhost:8080/"
        },
        "id": "0tSGd7ZMX1dU",
        "outputId": "08ff595c-fbb3-4eda-9341-46a3246ef6ef"
      },
      "execution_count": 4,
      "outputs": [
        {
          "output_type": "stream",
          "name": "stdout",
          "text": [
            "sistema:  [25, 10, 5, 1]\n",
            "Número de monedas: [3, 1, 0, 4]\n",
            "None\n",
            "sistema:  [2, 1, 0.5, 0.2, 0.1, 0.05, 0.02, 0.01]\n",
            "Número de monedas: [3, 1, 1, 0, 0, 0, 1, 1]\n",
            "None\n"
          ]
        }
      ]
    },
    {
      "cell_type": "markdown",
      "source": [
        "# PUNTOS MÁS CERCANOS"
      ],
      "metadata": {
        "id": "-l00_qfprOxV"
      }
    },
    {
      "cell_type": "markdown",
      "source": [
        "# 1D"
      ],
      "metadata": {
        "id": "s_Delkm8_rtF"
      }
    },
    {
      "cell_type": "markdown",
      "source": [
        "## Fuerza bruta"
      ],
      "metadata": {
        "id": "KXFO7W659CGg"
      }
    },
    {
      "cell_type": "code",
      "source": [
        "import random\n",
        "\n",
        "def encontrar_pares_cercanos(lista):\n",
        "    pares_cercanos = []\n",
        "\n",
        "    for i in range(len(lista)):\n",
        "        num1 = lista[i]\n",
        "\n",
        "        for j in range(i+1, len(lista)):\n",
        "            num2 = lista[j]\n",
        "\n",
        "            distancia = abs(num1 - num2)\n",
        "            pares_cercanos.append((num1, num2, distancia))\n",
        "\n",
        "    pares_cercanos = sorted(pares_cercanos, key=lambda x: x[2])\n",
        "\n",
        "    pares_mas_cercanos = []\n",
        "    distancia_minima = pares_cercanos[0][2]\n",
        "\n",
        "    for num1, num2, distancia in pares_cercanos:\n",
        "        if distancia == distancia_minima:\n",
        "            pares_mas_cercanos.append((num1, num2, distancia))\n",
        "        else:\n",
        "            break\n",
        "\n",
        "    return pares_mas_cercanos\n",
        "\n",
        "numeros = [random.randrange(1,1000) for x in range(100)]\n",
        "\n",
        "pares_mas_cercanos = encontrar_pares_cercanos(numeros)\n",
        "\n",
        "for num1, num2, distancia in pares_mas_cercanos:\n",
        "    print(f\"Los números {num1} y {num2} tienen una distancia de {distancia}\")\n"
      ],
      "metadata": {
        "colab": {
          "base_uri": "https://localhost:8080/"
        },
        "id": "RlOsKFycqz5m",
        "outputId": "b7495b68-0b01-40e8-bf7a-95b91ba01162"
      },
      "execution_count": 35,
      "outputs": [
        {
          "output_type": "stream",
          "name": "stdout",
          "text": [
            "Los números 974 y 974 tienen una distancia de 0\n",
            "Los números 473 y 473 tienen una distancia de 0\n",
            "Los números 404 y 404 tienen una distancia de 0\n",
            "Los números 66 y 66 tienen una distancia de 0\n",
            "Los números 347 y 347 tienen una distancia de 0\n",
            "Los números 83 y 83 tienen una distancia de 0\n",
            "Los números 913 y 913 tienen una distancia de 0\n"
          ]
        }
      ]
    },
    {
      "cell_type": "markdown",
      "source": [
        "La complejidad de sort es de O(n log n) y la complejidad de los bucles anidados es de O(n^2), con lo cual, la complejidad es de O(n^2)."
      ],
      "metadata": {
        "id": "0TjeK6kmrTxp"
      }
    },
    {
      "cell_type": "markdown",
      "source": [
        "## Divide y vencerás\n",
        "Creando dos sublistas"
      ],
      "metadata": {
        "id": "Sz7LcBlB9Q5Y"
      }
    },
    {
      "cell_type": "code",
      "source": [
        "def encontrar_pares_cercanos2(lista):\n",
        "    sublista1 = lista[:len(lista)//2]\n",
        "    sublista2 = lista[len(lista)//2:]\n",
        "\n",
        "    pares_cercanos = []\n",
        "    distancia_minima = float('inf')\n",
        "\n",
        "    for num3 in sublista1:\n",
        "        for num4 in sublista2:\n",
        "            distancia = abs(num3 - num4)\n",
        "\n",
        "            if distancia < distancia_minima:\n",
        "                pares_cercanos = [(num3, num4, distancia)]\n",
        "                distancia_minima = distancia\n",
        "            elif distancia == distancia_minima:\n",
        "                pares_cercanos.append((num3, num4, distancia))\n",
        "\n",
        "    return pares_cercanos\n",
        "\n",
        "numeros = [random.randrange(1,1000) for x in range(100)]\n",
        "\n",
        "pares_mas_cercanos2 = encontrar_pares_cercanos2(numeros)\n",
        "\n",
        "for num3, num4, distancia in pares_mas_cercanos2:\n",
        "    print(f\"Los  {num3} y {num4} tienen una distancia de {distancia}\")"
      ],
      "metadata": {
        "colab": {
          "base_uri": "https://localhost:8080/"
        },
        "id": "TfOFsTMPrf7Q",
        "outputId": "6e99fa4e-e0dd-48d1-ac0e-5fa14ec41925"
      },
      "execution_count": 36,
      "outputs": [
        {
          "output_type": "stream",
          "name": "stdout",
          "text": [
            "Los  909 y 909 tienen una distancia de 0\n",
            "Los  435 y 435 tienen una distancia de 0\n",
            "Los  384 y 384 tienen una distancia de 0\n",
            "Los  874 y 874 tienen una distancia de 0\n"
          ]
        }
      ]
    },
    {
      "cell_type": "markdown",
      "source": [
        "La complejidad es  O(n^2)"
      ],
      "metadata": {
        "id": "IJnx7tPF9e_K"
      }
    },
    {
      "cell_type": "markdown",
      "source": [
        "# 2D"
      ],
      "metadata": {
        "id": "NbqjogPr_lZB"
      }
    },
    {
      "cell_type": "code",
      "source": [
        "import random\n",
        "import math\n",
        "\n",
        "def encontrar_pares_cercanos(lista):\n",
        "    pares_cercanos = []\n",
        "\n",
        "    for i in range(len(lista)):\n",
        "        num1 = lista[i]\n",
        "\n",
        "        for j in range(i+1, len(lista)):\n",
        "            num2 = lista[j]\n",
        "\n",
        "            distancia = math.sqrt((num2[0] - num1[0])**2 + (num2[1] - num1[1])**2)\n",
        "            pares_cercanos.append(((num1[0], num1[1]), (num2[0], num2[1]), distancia))\n",
        "\n",
        "    pares_cercanos = sorted(pares_cercanos, key=lambda x: x[2])\n",
        "\n",
        "    pares_mas_cercanos = []\n",
        "    distancia_minima = pares_cercanos[0][2]\n",
        "\n",
        "    for num1, num2, distancia in pares_cercanos:\n",
        "        if distancia == distancia_minima:\n",
        "            pares_mas_cercanos.append((num1, num2, distancia))\n",
        "        else:\n",
        "            break\n",
        "\n",
        "    return pares_mas_cercanos\n",
        "\n",
        "\n",
        "numeros = [(random.randrange(1, 1000), random.randrange(1, 1000)) for x in range(100)]\n",
        "\n",
        "pares_mas_cercanos = encontrar_pares_cercanos(numeros)\n",
        "\n",
        "for num1, num2, distancia in pares_mas_cercanos:\n",
        "    print(f\"Los puntos {num1} y {num2} tienen una distancia de {distancia}\")"
      ],
      "metadata": {
        "colab": {
          "base_uri": "https://localhost:8080/"
        },
        "id": "9lGvxjZA_2qU",
        "outputId": "52bf7ebd-4067-4784-82ff-9e6dfd40b349"
      },
      "execution_count": 42,
      "outputs": [
        {
          "output_type": "stream",
          "name": "stdout",
          "text": [
            "Los puntos (562, 256) y (558, 267) tienen una distancia de 11.704699910719626\n"
          ]
        }
      ]
    },
    {
      "cell_type": "markdown",
      "source": [
        "# 3D"
      ],
      "metadata": {
        "id": "7kQxPbVfAVVb"
      }
    },
    {
      "cell_type": "code",
      "source": [
        "import random\n",
        "import math\n",
        "\n",
        "def encontrar_terna_cercana(lista):\n",
        "    ternas_cercanas = []\n",
        "\n",
        "    for i in range(len(lista)):\n",
        "        punto1 = lista[i]\n",
        "\n",
        "        for j in range(i+1, len(lista)):\n",
        "            punto2 = lista[j]\n",
        "\n",
        "            distancia = math.sqrt((punto2[0] - punto1[0])**2 + (punto2[1] - punto1[1])**2 + (punto2[2] - punto1[2])**2)\n",
        "            ternas_cercanas.append(((punto1[0], punto1[1], punto1[2]), (punto2[0], punto2[1], punto2[2]), distancia))\n",
        "\n",
        "    ternas_cercanas = sorted(ternas_cercanas, key=lambda x: x[2])\n",
        "\n",
        "    ternas_mas_cercanas = []\n",
        "    distancia_minima = ternas_cercanas[0][2]\n",
        "\n",
        "    for punto1, punto2, distancia in ternas_cercanas:\n",
        "        if distancia == distancia_minima:\n",
        "            ternas_mas_cercanas.append((punto1, punto2, distancia))\n",
        "        else:\n",
        "            break\n",
        "\n",
        "    return ternas_mas_cercanas\n",
        "\n",
        "# Ejemplo de uso\n",
        "ternas = [(random.randrange(1, 1000), random.randrange(1, 1000), random.randrange(1, 1000)) for x in range(100)]\n",
        "\n",
        "ternas_mas_cercanas = encontrar_terna_cercana(ternas)\n",
        "\n",
        "for punto1, punto2, distancia in ternas_mas_cercanas:\n",
        "    print(f\"Las ternas {punto1} y {punto2} tienen una distancia de {distancia}\")"
      ],
      "metadata": {
        "colab": {
          "base_uri": "https://localhost:8080/"
        },
        "id": "-q8jDtWyAb4W",
        "outputId": "c3e429c0-8935-4a5f-c1cc-831ff812e356"
      },
      "execution_count": 41,
      "outputs": [
        {
          "output_type": "stream",
          "name": "stdout",
          "text": [
            "Las ternas (128, 889, 309) y (158, 877, 319) tienen una distancia de 33.823069050575526\n"
          ]
        }
      ]
    }
  ]
}